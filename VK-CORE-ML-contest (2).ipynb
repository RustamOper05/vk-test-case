{
 "cells": [
  {
   "cell_type": "markdown",
   "metadata": {},
   "source": [
    "# Imports"
   ]
  },
  {
   "cell_type": "code",
   "execution_count": 1,
   "metadata": {
    "_cell_guid": "b1076dfc-b9ad-4769-8c92-a6c4dae69d19",
    "_uuid": "8f2839f25d086af736a60e9eeb907d3b93b6e0e5",
    "execution": {
     "iopub.execute_input": "2023-05-08T00:29:48.393633Z",
     "iopub.status.busy": "2023-05-08T00:29:48.393200Z",
     "iopub.status.idle": "2023-05-08T00:29:52.405479Z",
     "shell.execute_reply": "2023-05-08T00:29:52.404568Z",
     "shell.execute_reply.started": "2023-05-08T00:29:48.393594Z"
    }
   },
   "outputs": [],
   "source": [
    "import pandas as pd\n",
    "import numpy as np\n",
    "\n",
    "import torch\n",
    "import torch.nn as nn\n",
    "from torch.nn import functional as F\n",
    "from torch.utils.data import DataLoader, Dataset\n",
    "from torch.utils.data import TensorDataset, DataLoader\n",
    "from torch import optim\n",
    "\n",
    "from tqdm import tqdm\n",
    "\n",
    "import seaborn as sns\n",
    "import matplotlib.pyplot as plt\n",
    "\n",
    "from sklearn.metrics import ndcg_score, dcg_score\n",
    "from sklearn.preprocessing import MinMaxScaler\n",
    "\n",
    "import warnings\n",
    "warnings.filterwarnings('always')\n",
    "warnings.filterwarnings('ignore')\n",
    "\n",
    "device = torch.device(\"cuda\" if torch.cuda.is_available() else \"cpu\")"
   ]
  },
  {
   "cell_type": "markdown",
   "metadata": {},
   "source": [
    "# Чтение данных"
   ]
  },
  {
   "cell_type": "code",
   "execution_count": 2,
   "metadata": {
    "execution": {
     "iopub.execute_input": "2023-05-08T00:29:52.408785Z",
     "iopub.status.busy": "2023-05-08T00:29:52.407854Z",
     "iopub.status.idle": "2023-05-08T00:30:09.513956Z",
     "shell.execute_reply": "2023-05-08T00:30:09.513026Z",
     "shell.execute_reply.started": "2023-05-08T00:29:52.408735Z"
    }
   },
   "outputs": [],
   "source": [
    "movies_df = pd.read_csv(r\"C:\\Users\\sahab\\Desktop\\vk-ml-t\\movies.csv\")\n",
    "ratings = pd.read_csv(r\"C:\\Users\\sahab\\Desktop\\vk-ml-t\\ratings.csv\")"
   ]
  },
  {
   "cell_type": "markdown",
   "metadata": {},
   "source": [
    "# EDA"
   ]
  },
  {
   "cell_type": "code",
   "execution_count": 3,
   "metadata": {
    "execution": {
     "iopub.execute_input": "2023-05-08T00:30:09.515600Z",
     "iopub.status.busy": "2023-05-08T00:30:09.515270Z",
     "iopub.status.idle": "2023-05-08T00:30:09.534459Z",
     "shell.execute_reply": "2023-05-08T00:30:09.533457Z",
     "shell.execute_reply.started": "2023-05-08T00:30:09.515567Z"
    }
   },
   "outputs": [
    {
     "name": "stdout",
     "output_type": "stream",
     "text": [
      "(27753444, 4)\n"
     ]
    },
    {
     "data": {
      "text/html": [
       "<div>\n",
       "<style scoped>\n",
       "    .dataframe tbody tr th:only-of-type {\n",
       "        vertical-align: middle;\n",
       "    }\n",
       "\n",
       "    .dataframe tbody tr th {\n",
       "        vertical-align: top;\n",
       "    }\n",
       "\n",
       "    .dataframe thead th {\n",
       "        text-align: right;\n",
       "    }\n",
       "</style>\n",
       "<table border=\"1\" class=\"dataframe\">\n",
       "  <thead>\n",
       "    <tr style=\"text-align: right;\">\n",
       "      <th></th>\n",
       "      <th>userId</th>\n",
       "      <th>movieId</th>\n",
       "      <th>rating</th>\n",
       "      <th>timestamp</th>\n",
       "    </tr>\n",
       "  </thead>\n",
       "  <tbody>\n",
       "    <tr>\n",
       "      <th>0</th>\n",
       "      <td>1</td>\n",
       "      <td>307</td>\n",
       "      <td>3.5</td>\n",
       "      <td>1256677221</td>\n",
       "    </tr>\n",
       "    <tr>\n",
       "      <th>1</th>\n",
       "      <td>1</td>\n",
       "      <td>481</td>\n",
       "      <td>3.5</td>\n",
       "      <td>1256677456</td>\n",
       "    </tr>\n",
       "    <tr>\n",
       "      <th>2</th>\n",
       "      <td>1</td>\n",
       "      <td>1091</td>\n",
       "      <td>1.5</td>\n",
       "      <td>1256677471</td>\n",
       "    </tr>\n",
       "    <tr>\n",
       "      <th>3</th>\n",
       "      <td>1</td>\n",
       "      <td>1257</td>\n",
       "      <td>4.5</td>\n",
       "      <td>1256677460</td>\n",
       "    </tr>\n",
       "    <tr>\n",
       "      <th>4</th>\n",
       "      <td>1</td>\n",
       "      <td>1449</td>\n",
       "      <td>4.5</td>\n",
       "      <td>1256677264</td>\n",
       "    </tr>\n",
       "  </tbody>\n",
       "</table>\n",
       "</div>"
      ],
      "text/plain": [
       "   userId  movieId  rating   timestamp\n",
       "0       1      307     3.5  1256677221\n",
       "1       1      481     3.5  1256677456\n",
       "2       1     1091     1.5  1256677471\n",
       "3       1     1257     4.5  1256677460\n",
       "4       1     1449     4.5  1256677264"
      ]
     },
     "execution_count": 3,
     "metadata": {},
     "output_type": "execute_result"
    }
   ],
   "source": [
    "print(ratings.shape)\n",
    "ratings.head(5)"
   ]
  },
  {
   "cell_type": "code",
   "execution_count": 4,
   "metadata": {
    "execution": {
     "iopub.execute_input": "2023-05-08T00:30:09.536606Z",
     "iopub.status.busy": "2023-05-08T00:30:09.536081Z",
     "iopub.status.idle": "2023-05-08T00:30:09.549842Z",
     "shell.execute_reply": "2023-05-08T00:30:09.547614Z",
     "shell.execute_reply.started": "2023-05-08T00:30:09.536410Z"
    }
   },
   "outputs": [
    {
     "name": "stdout",
     "output_type": "stream",
     "text": [
      "(58098, 3)\n"
     ]
    },
    {
     "data": {
      "text/html": [
       "<div>\n",
       "<style scoped>\n",
       "    .dataframe tbody tr th:only-of-type {\n",
       "        vertical-align: middle;\n",
       "    }\n",
       "\n",
       "    .dataframe tbody tr th {\n",
       "        vertical-align: top;\n",
       "    }\n",
       "\n",
       "    .dataframe thead th {\n",
       "        text-align: right;\n",
       "    }\n",
       "</style>\n",
       "<table border=\"1\" class=\"dataframe\">\n",
       "  <thead>\n",
       "    <tr style=\"text-align: right;\">\n",
       "      <th></th>\n",
       "      <th>movieId</th>\n",
       "      <th>title</th>\n",
       "      <th>genres</th>\n",
       "    </tr>\n",
       "  </thead>\n",
       "  <tbody>\n",
       "    <tr>\n",
       "      <th>0</th>\n",
       "      <td>1</td>\n",
       "      <td>Toy Story (1995)</td>\n",
       "      <td>Adventure|Animation|Children|Comedy|Fantasy</td>\n",
       "    </tr>\n",
       "    <tr>\n",
       "      <th>1</th>\n",
       "      <td>2</td>\n",
       "      <td>Jumanji (1995)</td>\n",
       "      <td>Adventure|Children|Fantasy</td>\n",
       "    </tr>\n",
       "    <tr>\n",
       "      <th>2</th>\n",
       "      <td>3</td>\n",
       "      <td>Grumpier Old Men (1995)</td>\n",
       "      <td>Comedy|Romance</td>\n",
       "    </tr>\n",
       "    <tr>\n",
       "      <th>3</th>\n",
       "      <td>4</td>\n",
       "      <td>Waiting to Exhale (1995)</td>\n",
       "      <td>Comedy|Drama|Romance</td>\n",
       "    </tr>\n",
       "    <tr>\n",
       "      <th>4</th>\n",
       "      <td>5</td>\n",
       "      <td>Father of the Bride Part II (1995)</td>\n",
       "      <td>Comedy</td>\n",
       "    </tr>\n",
       "  </tbody>\n",
       "</table>\n",
       "</div>"
      ],
      "text/plain": [
       "   movieId                               title  \\\n",
       "0        1                    Toy Story (1995)   \n",
       "1        2                      Jumanji (1995)   \n",
       "2        3             Grumpier Old Men (1995)   \n",
       "3        4            Waiting to Exhale (1995)   \n",
       "4        5  Father of the Bride Part II (1995)   \n",
       "\n",
       "                                        genres  \n",
       "0  Adventure|Animation|Children|Comedy|Fantasy  \n",
       "1                   Adventure|Children|Fantasy  \n",
       "2                               Comedy|Romance  \n",
       "3                         Comedy|Drama|Romance  \n",
       "4                                       Comedy  "
      ]
     },
     "execution_count": 4,
     "metadata": {},
     "output_type": "execute_result"
    }
   ],
   "source": [
    "print(movies_df.shape)\n",
    "movies_df.head(5)"
   ]
  },
  {
   "cell_type": "code",
   "execution_count": 5,
   "metadata": {
    "execution": {
     "iopub.execute_input": "2023-05-08T00:30:09.553129Z",
     "iopub.status.busy": "2023-05-08T00:30:09.552661Z",
     "iopub.status.idle": "2023-05-08T00:30:10.677192Z",
     "shell.execute_reply": "2023-05-08T00:30:10.676305Z",
     "shell.execute_reply.started": "2023-05-08T00:30:09.553104Z"
    }
   },
   "outputs": [
    {
     "data": {
      "text/plain": [
       "<AxesSubplot:>"
      ]
     },
     "execution_count": 5,
     "metadata": {},
     "output_type": "execute_result"
    },
    {
     "data": {
      "image/png": "[encoded data removed]",
      "text/plain": [
       "<Figure size 640x480 with 1 Axes>"
      ]
     },
     "metadata": {},
     "output_type": "display_data"
    }
   ],
   "source": [
    "# Распределение оценок\n",
    "ratings.rating.hist()"
   ]
  },
  {
   "cell_type": "markdown",
   "metadata": {},
   "source": [
    "20 Фильмов с наибольшим числом оценок"
   ]
  },
  {
   "cell_type": "code",
   "execution_count": 6,
   "metadata": {
    "execution": {
     "iopub.execute_input": "2023-05-08T00:30:10.681095Z",
     "iopub.status.busy": "2023-05-08T00:30:10.678510Z",
     "iopub.status.idle": "2023-05-08T00:30:18.596541Z",
     "shell.execute_reply": "2023-05-08T00:30:18.595634Z",
     "shell.execute_reply.started": "2023-05-08T00:30:10.681069Z"
    }
   },
   "outputs": [
    {
     "data": {
      "text/html": [
       "<div>\n",
       "<style scoped>\n",
       "    .dataframe tbody tr th:only-of-type {\n",
       "        vertical-align: middle;\n",
       "    }\n",
       "\n",
       "    .dataframe tbody tr th {\n",
       "        vertical-align: top;\n",
       "    }\n",
       "\n",
       "    .dataframe thead th {\n",
       "        text-align: right;\n",
       "    }\n",
       "</style>\n",
       "<table border=\"1\" class=\"dataframe\">\n",
       "  <thead>\n",
       "    <tr style=\"text-align: right;\">\n",
       "      <th></th>\n",
       "      <th>rating</th>\n",
       "    </tr>\n",
       "    <tr>\n",
       "      <th>title</th>\n",
       "      <th></th>\n",
       "    </tr>\n",
       "  </thead>\n",
       "  <tbody>\n",
       "    <tr>\n",
       "      <th>Shawshank Redemption, The (1994)</th>\n",
       "      <td>97999</td>\n",
       "    </tr>\n",
       "    <tr>\n",
       "      <th>Forrest Gump (1994)</th>\n",
       "      <td>97040</td>\n",
       "    </tr>\n",
       "    <tr>\n",
       "      <th>Pulp Fiction (1994)</th>\n",
       "      <td>92406</td>\n",
       "    </tr>\n",
       "    <tr>\n",
       "      <th>Silence of the Lambs, The (1991)</th>\n",
       "      <td>87899</td>\n",
       "    </tr>\n",
       "    <tr>\n",
       "      <th>Matrix, The (1999)</th>\n",
       "      <td>84545</td>\n",
       "    </tr>\n",
       "    <tr>\n",
       "      <th>Star Wars: Episode IV - A New Hope (1977)</th>\n",
       "      <td>81815</td>\n",
       "    </tr>\n",
       "    <tr>\n",
       "      <th>Jurassic Park (1993)</th>\n",
       "      <td>76451</td>\n",
       "    </tr>\n",
       "    <tr>\n",
       "      <th>Schindler's List (1993)</th>\n",
       "      <td>71516</td>\n",
       "    </tr>\n",
       "    <tr>\n",
       "      <th>Braveheart (1995)</th>\n",
       "      <td>68803</td>\n",
       "    </tr>\n",
       "    <tr>\n",
       "      <th>Toy Story (1995)</th>\n",
       "      <td>68469</td>\n",
       "    </tr>\n",
       "    <tr>\n",
       "      <th>Star Wars: Episode VI - Return of the Jedi (1983)</th>\n",
       "      <td>66023</td>\n",
       "    </tr>\n",
       "    <tr>\n",
       "      <th>Star Wars: Episode V - The Empire Strikes Back (1980)</th>\n",
       "      <td>65822</td>\n",
       "    </tr>\n",
       "    <tr>\n",
       "      <th>Fight Club (1999)</th>\n",
       "      <td>65678</td>\n",
       "    </tr>\n",
       "    <tr>\n",
       "      <th>Terminator 2: Judgment Day (1991)</th>\n",
       "      <td>64258</td>\n",
       "    </tr>\n",
       "    <tr>\n",
       "      <th>Raiders of the Lost Ark (Indiana Jones and the Raiders of the Lost Ark) (1981)</th>\n",
       "      <td>63505</td>\n",
       "    </tr>\n",
       "    <tr>\n",
       "      <th>Usual Suspects, The (1995)</th>\n",
       "      <td>62180</td>\n",
       "    </tr>\n",
       "    <tr>\n",
       "      <th>Lord of the Rings: The Fellowship of the Ring, The (2001)</th>\n",
       "      <td>61883</td>\n",
       "    </tr>\n",
       "    <tr>\n",
       "      <th>Godfather, The (1972)</th>\n",
       "      <td>60904</td>\n",
       "    </tr>\n",
       "    <tr>\n",
       "      <th>American Beauty (1999)</th>\n",
       "      <td>60820</td>\n",
       "    </tr>\n",
       "    <tr>\n",
       "      <th>Independence Day (a.k.a. ID4) (1996)</th>\n",
       "      <td>58949</td>\n",
       "    </tr>\n",
       "  </tbody>\n",
       "</table>\n",
       "</div>"
      ],
      "text/plain": [
       "                                                    rating\n",
       "title                                                     \n",
       "Shawshank Redemption, The (1994)                     97999\n",
       "Forrest Gump (1994)                                  97040\n",
       "Pulp Fiction (1994)                                  92406\n",
       "Silence of the Lambs, The (1991)                     87899\n",
       "Matrix, The (1999)                                   84545\n",
       "Star Wars: Episode IV - A New Hope (1977)            81815\n",
       "Jurassic Park (1993)                                 76451\n",
       "Schindler's List (1993)                              71516\n",
       "Braveheart (1995)                                    68803\n",
       "Toy Story (1995)                                     68469\n",
       "Star Wars: Episode VI - Return of the Jedi (1983)    66023\n",
       "Star Wars: Episode V - The Empire Strikes Back ...   65822\n",
       "Fight Club (1999)                                    65678\n",
       "Terminator 2: Judgment Day (1991)                    64258\n",
       "Raiders of the Lost Ark (Indiana Jones and the ...   63505\n",
       "Usual Suspects, The (1995)                           62180\n",
       "Lord of the Rings: The Fellowship of the Ring, ...   61883\n",
       "Godfather, The (1972)                                60904\n",
       "American Beauty (1999)                               60820\n",
       "Independence Day (a.k.a. ID4) (1996)                 58949"
      ]
     },
     "execution_count": 6,
     "metadata": {},
     "output_type": "execute_result"
    }
   ],
   "source": [
    "pd.merge(ratings, movies_df, on=\"movieId\", how=\"inner\")\\\n",
    ".groupby(\"title\").agg({'rating': 'count'})\\\n",
    ".sort_values(\"rating\", ascending=False).head(20)"
   ]
  },
  {
   "cell_type": "markdown",
   "metadata": {},
   "source": [
    "20 фильмов с самыми высоки показателями оценок и средней оценки"
   ]
  },
  {
   "cell_type": "code",
   "execution_count": 7,
   "metadata": {
    "execution": {
     "iopub.execute_input": "2023-05-08T00:30:18.598392Z",
     "iopub.status.busy": "2023-05-08T00:30:18.598047Z",
     "iopub.status.idle": "2023-05-08T00:30:26.717654Z",
     "shell.execute_reply": "2023-05-08T00:30:26.716674Z",
     "shell.execute_reply.started": "2023-05-08T00:30:18.598362Z"
    }
   },
   "outputs": [
    {
     "data": {
      "text/html": [
       "<div>\n",
       "<style scoped>\n",
       "    .dataframe tbody tr th:only-of-type {\n",
       "        vertical-align: middle;\n",
       "    }\n",
       "\n",
       "    .dataframe tbody tr th {\n",
       "        vertical-align: top;\n",
       "    }\n",
       "\n",
       "    .dataframe thead tr th {\n",
       "        text-align: left;\n",
       "    }\n",
       "\n",
       "    .dataframe thead tr:last-of-type th {\n",
       "        text-align: right;\n",
       "    }\n",
       "</style>\n",
       "<table border=\"1\" class=\"dataframe\">\n",
       "  <thead>\n",
       "    <tr>\n",
       "      <th></th>\n",
       "      <th colspan=\"2\" halign=\"left\">rating</th>\n",
       "    </tr>\n",
       "    <tr>\n",
       "      <th></th>\n",
       "      <th>count</th>\n",
       "      <th>mean</th>\n",
       "    </tr>\n",
       "    <tr>\n",
       "      <th>title</th>\n",
       "      <th></th>\n",
       "      <th></th>\n",
       "    </tr>\n",
       "  </thead>\n",
       "  <tbody>\n",
       "    <tr>\n",
       "      <th>Shawshank Redemption, The (1994)</th>\n",
       "      <td>97999</td>\n",
       "      <td>4.424188</td>\n",
       "    </tr>\n",
       "    <tr>\n",
       "      <th>Forrest Gump (1994)</th>\n",
       "      <td>97040</td>\n",
       "      <td>4.056585</td>\n",
       "    </tr>\n",
       "    <tr>\n",
       "      <th>Pulp Fiction (1994)</th>\n",
       "      <td>92406</td>\n",
       "      <td>4.173971</td>\n",
       "    </tr>\n",
       "    <tr>\n",
       "      <th>Silence of the Lambs, The (1991)</th>\n",
       "      <td>87899</td>\n",
       "      <td>4.151412</td>\n",
       "    </tr>\n",
       "    <tr>\n",
       "      <th>Matrix, The (1999)</th>\n",
       "      <td>84545</td>\n",
       "      <td>4.149695</td>\n",
       "    </tr>\n",
       "    <tr>\n",
       "      <th>Star Wars: Episode IV - A New Hope (1977)</th>\n",
       "      <td>81815</td>\n",
       "      <td>4.120455</td>\n",
       "    </tr>\n",
       "    <tr>\n",
       "      <th>Jurassic Park (1993)</th>\n",
       "      <td>76451</td>\n",
       "      <td>3.665034</td>\n",
       "    </tr>\n",
       "    <tr>\n",
       "      <th>Schindler's List (1993)</th>\n",
       "      <td>71516</td>\n",
       "      <td>4.257502</td>\n",
       "    </tr>\n",
       "    <tr>\n",
       "      <th>Braveheart (1995)</th>\n",
       "      <td>68803</td>\n",
       "      <td>4.008481</td>\n",
       "    </tr>\n",
       "    <tr>\n",
       "      <th>Toy Story (1995)</th>\n",
       "      <td>68469</td>\n",
       "      <td>3.886649</td>\n",
       "    </tr>\n",
       "    <tr>\n",
       "      <th>Star Wars: Episode VI - Return of the Jedi (1983)</th>\n",
       "      <td>66023</td>\n",
       "      <td>3.986043</td>\n",
       "    </tr>\n",
       "    <tr>\n",
       "      <th>Star Wars: Episode V - The Empire Strikes Back (1980)</th>\n",
       "      <td>65822</td>\n",
       "      <td>4.133481</td>\n",
       "    </tr>\n",
       "    <tr>\n",
       "      <th>Fight Club (1999)</th>\n",
       "      <td>65678</td>\n",
       "      <td>4.230663</td>\n",
       "    </tr>\n",
       "    <tr>\n",
       "      <th>Terminator 2: Judgment Day (1991)</th>\n",
       "      <td>64258</td>\n",
       "      <td>3.941501</td>\n",
       "    </tr>\n",
       "    <tr>\n",
       "      <th>Raiders of the Lost Ark (Indiana Jones and the Raiders of the Lost Ark) (1981)</th>\n",
       "      <td>63505</td>\n",
       "      <td>4.120455</td>\n",
       "    </tr>\n",
       "    <tr>\n",
       "      <th>Usual Suspects, The (1995)</th>\n",
       "      <td>62180</td>\n",
       "      <td>4.291959</td>\n",
       "    </tr>\n",
       "    <tr>\n",
       "      <th>Lord of the Rings: The Fellowship of the Ring, The (2001)</th>\n",
       "      <td>61883</td>\n",
       "      <td>4.097943</td>\n",
       "    </tr>\n",
       "    <tr>\n",
       "      <th>Godfather, The (1972)</th>\n",
       "      <td>60904</td>\n",
       "      <td>4.332893</td>\n",
       "    </tr>\n",
       "    <tr>\n",
       "      <th>American Beauty (1999)</th>\n",
       "      <td>60820</td>\n",
       "      <td>4.121506</td>\n",
       "    </tr>\n",
       "    <tr>\n",
       "      <th>Independence Day (a.k.a. ID4) (1996)</th>\n",
       "      <td>58949</td>\n",
       "      <td>3.397165</td>\n",
       "    </tr>\n",
       "  </tbody>\n",
       "</table>\n",
       "</div>"
      ],
      "text/plain": [
       "                                                   rating          \n",
       "                                                    count      mean\n",
       "title                                                              \n",
       "Shawshank Redemption, The (1994)                    97999  4.424188\n",
       "Forrest Gump (1994)                                 97040  4.056585\n",
       "Pulp Fiction (1994)                                 92406  4.173971\n",
       "Silence of the Lambs, The (1991)                    87899  4.151412\n",
       "Matrix, The (1999)                                  84545  4.149695\n",
       "Star Wars: Episode IV - A New Hope (1977)           81815  4.120455\n",
       "Jurassic Park (1993)                                76451  3.665034\n",
       "Schindler's List (1993)                             71516  4.257502\n",
       "Braveheart (1995)                                   68803  4.008481\n",
       "Toy Story (1995)                                    68469  3.886649\n",
       "Star Wars: Episode VI - Return of the Jedi (1983)   66023  3.986043\n",
       "Star Wars: Episode V - The Empire Strikes Back ...  65822  4.133481\n",
       "Fight Club (1999)                                   65678  4.230663\n",
       "Terminator 2: Judgment Day (1991)                   64258  3.941501\n",
       "Raiders of the Lost Ark (Indiana Jones and the ...  63505  4.120455\n",
       "Usual Suspects, The (1995)                          62180  4.291959\n",
       "Lord of the Rings: The Fellowship of the Ring, ...  61883  4.097943\n",
       "Godfather, The (1972)                               60904  4.332893\n",
       "American Beauty (1999)                              60820  4.121506\n",
       "Independence Day (a.k.a. ID4) (1996)                58949  3.397165"
      ]
     },
     "execution_count": 7,
     "metadata": {},
     "output_type": "execute_result"
    }
   ],
   "source": [
    "pd.merge(ratings, movies_df, on=\"movieId\", how=\"inner\")\\\n",
    ".groupby(\"title\").agg({'rating': ['count', 'mean']})\\\n",
    ".sort_values([(\"rating\", \"count\"), (\"rating\", \"count\")], ascending=False).head(20)"
   ]
  },
  {
   "cell_type": "code",
   "execution_count": 8,
   "metadata": {
    "execution": {
     "iopub.execute_input": "2023-05-08T00:30:26.719492Z",
     "iopub.status.busy": "2023-05-08T00:30:26.719155Z",
     "iopub.status.idle": "2023-05-08T00:30:27.049251Z",
     "shell.execute_reply": "2023-05-08T00:30:27.048182Z",
     "shell.execute_reply.started": "2023-05-08T00:30:26.719461Z"
    }
   },
   "outputs": [
    {
     "data": {
      "text/plain": [
       "(283228, 53889)"
      ]
     },
     "execution_count": 8,
     "metadata": {},
     "output_type": "execute_result"
    }
   ],
   "source": [
    "ratings.userId.nunique(), ratings.movieId.nunique()"
   ]
  },
  {
   "cell_type": "code",
   "execution_count": 9,
   "metadata": {
    "execution": {
     "iopub.execute_input": "2023-05-08T00:30:27.051059Z",
     "iopub.status.busy": "2023-05-08T00:30:27.050696Z",
     "iopub.status.idle": "2023-05-08T00:30:27.094707Z",
     "shell.execute_reply": "2023-05-08T00:30:27.093694Z",
     "shell.execute_reply.started": "2023-05-08T00:30:27.051027Z"
    }
   },
   "outputs": [
    {
     "data": {
      "text/plain": [
       "(1, 283228)"
      ]
     },
     "execution_count": 9,
     "metadata": {},
     "output_type": "execute_result"
    }
   ],
   "source": [
    "ratings.userId.min(), ratings.userId.max()"
   ]
  },
  {
   "cell_type": "code",
   "execution_count": 10,
   "metadata": {
    "execution": {
     "iopub.execute_input": "2023-05-08T00:30:27.096581Z",
     "iopub.status.busy": "2023-05-08T00:30:27.096204Z",
     "iopub.status.idle": "2023-05-08T00:30:27.146183Z",
     "shell.execute_reply": "2023-05-08T00:30:27.145093Z",
     "shell.execute_reply.started": "2023-05-08T00:30:27.096532Z"
    }
   },
   "outputs": [
    {
     "data": {
      "text/plain": [
       "(1, 193886)"
      ]
     },
     "execution_count": 10,
     "metadata": {},
     "output_type": "execute_result"
    }
   ],
   "source": [
    "ratings.movieId.min(), ratings.movieId.max()"
   ]
  },
  {
   "cell_type": "markdown",
   "metadata": {},
   "source": [
    "# Подготовка данных"
   ]
  },
  {
   "cell_type": "markdown",
   "metadata": {},
   "source": [
    "Соединение датафреймов рейтингов и фильмов"
   ]
  },
  {
   "cell_type": "code",
   "execution_count": 11,
   "metadata": {
    "execution": {
     "iopub.execute_input": "2023-05-08T00:30:27.148594Z",
     "iopub.status.busy": "2023-05-08T00:30:27.147903Z",
     "iopub.status.idle": "2023-05-08T00:30:32.180446Z",
     "shell.execute_reply": "2023-05-08T00:30:32.179510Z",
     "shell.execute_reply.started": "2023-05-08T00:30:27.148558Z"
    }
   },
   "outputs": [],
   "source": [
    "train = pd.merge(ratings, movies_df, on=\"movieId\", how=\"inner\")"
   ]
  },
  {
   "cell_type": "code",
   "execution_count": 12,
   "metadata": {
    "execution": {
     "iopub.execute_input": "2023-05-08T00:30:32.182002Z",
     "iopub.status.busy": "2023-05-08T00:30:32.181650Z",
     "iopub.status.idle": "2023-05-08T00:30:32.198737Z",
     "shell.execute_reply": "2023-05-08T00:30:32.197490Z",
     "shell.execute_reply.started": "2023-05-08T00:30:32.181971Z"
    }
   },
   "outputs": [
    {
     "data": {
      "text/html": [
       "<div>\n",
       "<style scoped>\n",
       "    .dataframe tbody tr th:only-of-type {\n",
       "        vertical-align: middle;\n",
       "    }\n",
       "\n",
       "    .dataframe tbody tr th {\n",
       "        vertical-align: top;\n",
       "    }\n",
       "\n",
       "    .dataframe thead th {\n",
       "        text-align: right;\n",
       "    }\n",
       "</style>\n",
       "<table border=\"1\" class=\"dataframe\">\n",
       "  <thead>\n",
       "    <tr style=\"text-align: right;\">\n",
       "      <th></th>\n",
       "      <th>userId</th>\n",
       "      <th>movieId</th>\n",
       "      <th>rating</th>\n",
       "      <th>timestamp</th>\n",
       "      <th>title</th>\n",
       "      <th>genres</th>\n",
       "    </tr>\n",
       "  </thead>\n",
       "  <tbody>\n",
       "    <tr>\n",
       "      <th>0</th>\n",
       "      <td>1</td>\n",
       "      <td>307</td>\n",
       "      <td>3.5</td>\n",
       "      <td>1256677221</td>\n",
       "      <td>Three Colors: Blue (Trois couleurs: Bleu) (1993)</td>\n",
       "      <td>Drama</td>\n",
       "    </tr>\n",
       "    <tr>\n",
       "      <th>1</th>\n",
       "      <td>6</td>\n",
       "      <td>307</td>\n",
       "      <td>4.0</td>\n",
       "      <td>832059248</td>\n",
       "      <td>Three Colors: Blue (Trois couleurs: Bleu) (1993)</td>\n",
       "      <td>Drama</td>\n",
       "    </tr>\n",
       "    <tr>\n",
       "      <th>2</th>\n",
       "      <td>56</td>\n",
       "      <td>307</td>\n",
       "      <td>4.0</td>\n",
       "      <td>1383625728</td>\n",
       "      <td>Three Colors: Blue (Trois couleurs: Bleu) (1993)</td>\n",
       "      <td>Drama</td>\n",
       "    </tr>\n",
       "    <tr>\n",
       "      <th>3</th>\n",
       "      <td>71</td>\n",
       "      <td>307</td>\n",
       "      <td>5.0</td>\n",
       "      <td>1257795414</td>\n",
       "      <td>Three Colors: Blue (Trois couleurs: Bleu) (1993)</td>\n",
       "      <td>Drama</td>\n",
       "    </tr>\n",
       "    <tr>\n",
       "      <th>4</th>\n",
       "      <td>84</td>\n",
       "      <td>307</td>\n",
       "      <td>3.0</td>\n",
       "      <td>999055519</td>\n",
       "      <td>Three Colors: Blue (Trois couleurs: Bleu) (1993)</td>\n",
       "      <td>Drama</td>\n",
       "    </tr>\n",
       "  </tbody>\n",
       "</table>\n",
       "</div>"
      ],
      "text/plain": [
       "   userId  movieId  rating   timestamp  \\\n",
       "0       1      307     3.5  1256677221   \n",
       "1       6      307     4.0   832059248   \n",
       "2      56      307     4.0  1383625728   \n",
       "3      71      307     5.0  1257795414   \n",
       "4      84      307     3.0   999055519   \n",
       "\n",
       "                                              title genres  \n",
       "0  Three Colors: Blue (Trois couleurs: Bleu) (1993)  Drama  \n",
       "1  Three Colors: Blue (Trois couleurs: Bleu) (1993)  Drama  \n",
       "2  Three Colors: Blue (Trois couleurs: Bleu) (1993)  Drama  \n",
       "3  Three Colors: Blue (Trois couleurs: Bleu) (1993)  Drama  \n",
       "4  Three Colors: Blue (Trois couleurs: Bleu) (1993)  Drama  "
      ]
     },
     "execution_count": 12,
     "metadata": {},
     "output_type": "execute_result"
    }
   ],
   "source": [
    "train.head(5)"
   ]
  },
  {
   "cell_type": "markdown",
   "metadata": {},
   "source": [
    "Создание train, test"
   ]
  },
  {
   "cell_type": "code",
   "execution_count": 13,
   "metadata": {
    "execution": {
     "iopub.execute_input": "2023-05-08T00:30:32.200687Z",
     "iopub.status.busy": "2023-05-08T00:30:32.200275Z",
     "iopub.status.idle": "2023-05-08T00:31:08.495960Z",
     "shell.execute_reply": "2023-05-08T00:31:08.494946Z",
     "shell.execute_reply.started": "2023-05-08T00:30:32.200655Z"
    }
   },
   "outputs": [],
   "source": [
    "def l_o_o(train):\n",
    "    '''\n",
    "    Функция для семплирования данных. \n",
    "    Чтобы в обучаеющей выборке были все пользователи,\n",
    "    выдаем оценкам каждого пользователя рейтинги и отправляем последнюю оценку в трейн.\n",
    "    Так же функция делает таргет бинарным,\n",
    "    исходя из того что нам нужно предсказать захочет ли пользователь посмотреть фильм,\n",
    "    а не рейтинг, который он ему поставит\n",
    "    '''\n",
    "    #Скейлим рейтинг от 0 до 1, потому что у каждый пользователь ставить оценки по разному(кто-то только 1 и 5, кто-то всему 3 и тд.)\n",
    "    scaler = MinMaxScaler()\n",
    "    target = scaler.fit_transform(train.rating.values.reshape(-1, 1))\n",
    "    train[\"target\"] = target\n",
    "    \n",
    "    #Делаем таргет бинарным     \n",
    "    train[\"target\"] = train[\"target\"].apply(lambda x: 1 if x > 0.6 else 0)\n",
    "    users_count_g = train.groupby(\"userId\").count()[[\"movieId\"]]\n",
    "    users_ones = users_count_g[users_count_g[\"movieId\"] == 1].index.to_numpy()\n",
    "    only_one_example = train[(train[\"userId\"].isin(users_ones))][[\"userId\", \"movieId\", \"target\"]]\n",
    "    \n",
    "    #Отбираем пользователей с одним интерактом, чтобы добавить в трейн     \n",
    "    train_without_ones = train[~(train[\"userId\"].isin(users_ones))]\n",
    "    \n",
    "    #Отправляем в трейн все взаимодействия кроме последнего\n",
    "    train_without_ones['rank_latest'] = train_without_ones\\\n",
    "    .groupby(['userId'])['timestamp'].rank(method='first', ascending=False)\n",
    "    train_ratings = train_without_ones[train_without_ones['rank_latest'] != 1]\n",
    "    test_ratings = train_without_ones[train_without_ones['rank_latest'] == 1]\n",
    "    train_ratings = train_ratings[[\"userId\", \"movieId\", \"target\"]]\n",
    "    test_ratings = test_ratings[[\"userId\", \"movieId\", \"target\"]]\n",
    "    \n",
    "    #Соединяем трейн и фрейм с пользователями у которых по одной интеракции \n",
    "    train_ratings = pd.concat([train_ratings, only_one_example], ignore_index=True)\n",
    "    \n",
    "    return train_ratings, test_ratings\n",
    "\n",
    "train_ratings, test_ratings = l_o_o(train)"
   ]
  },
  {
   "cell_type": "markdown",
   "metadata": {},
   "source": [
    "Разбиение на train, test"
   ]
  },
  {
   "cell_type": "code",
   "execution_count": 14,
   "metadata": {
    "execution": {
     "iopub.execute_input": "2023-05-08T00:31:08.698817Z",
     "iopub.status.busy": "2023-05-08T00:31:08.698397Z",
     "iopub.status.idle": "2023-05-08T00:31:08.914996Z",
     "shell.execute_reply": "2023-05-08T00:31:08.914001Z",
     "shell.execute_reply.started": "2023-05-08T00:31:08.698785Z"
    }
   },
   "outputs": [],
   "source": [
    "X_train = train_ratings[[\"userId\", \"movieId\"]]\n",
    "y_train = train_ratings[[\"target\"]]\n",
    "X_valid = test_ratings[[\"userId\", \"movieId\"]]\n",
    "y_valid = test_ratings[[\"target\"]]"
   ]
  },
  {
   "cell_type": "markdown",
   "metadata": {},
   "source": [
    "Создание torch Dataloader для обучения"
   ]
  },
  {
   "cell_type": "code",
   "execution_count": 15,
   "metadata": {
    "execution": {
     "iopub.execute_input": "2023-05-08T00:31:08.917901Z",
     "iopub.status.busy": "2023-05-08T00:31:08.916367Z",
     "iopub.status.idle": "2023-05-08T00:31:09.050048Z",
     "shell.execute_reply": "2023-05-08T00:31:09.049120Z",
     "shell.execute_reply.started": "2023-05-08T00:31:08.917868Z"
    }
   },
   "outputs": [],
   "source": [
    "train_tensor = TensorDataset(\n",
    "    torch.from_numpy(X_train.values).to(torch.int64),\n",
    "    torch.from_numpy(y_train.values).float())\n",
    "test_tensor = TensorDataset(\n",
    "    torch.from_numpy(X_valid.values).to(torch.int64),\n",
    "    torch.from_numpy(y_valid.values).float())\n",
    "\n",
    "train_loader = DataLoader(train_tensor, batch_size=1024, shuffle=True)\n",
    "test_loader = DataLoader(test_tensor, batch_size=1024, shuffle=True)"
   ]
  },
  {
   "cell_type": "markdown",
   "metadata": {},
   "source": [
    "# Модель"
   ]
  },
  {
   "cell_type": "markdown",
   "metadata": {},
   "source": [
    "![](https://miro.medium.com/v2/resize:fit:1400/1*aP-Mx266ExwoWZPSdHtYpA.png)"
   ]
  },
  {
   "cell_type": "code",
   "execution_count": 16,
   "metadata": {
    "execution": {
     "iopub.execute_input": "2023-05-08T00:31:09.052119Z",
     "iopub.status.busy": "2023-05-08T00:31:09.051552Z",
     "iopub.status.idle": "2023-05-08T00:31:09.062028Z",
     "shell.execute_reply": "2023-05-08T00:31:09.061052Z",
     "shell.execute_reply.started": "2023-05-08T00:31:09.052085Z"
    }
   },
   "outputs": [],
   "source": [
    "# Создаем нейросетевую модель архитектуры neural collaborative filtering\n",
    "# У сети два входа - пользователь и фильм, на этих входах обучаются эмбеддинги, после чего эмбеддинги конкатенируются и передаются в полносвяхную сеть\n",
    "# Выход сети - вероятность того, что пользователь захочет \n",
    "class NCF(nn.Module):\n",
    "    def __init__(self,\n",
    "                 n_users, # Число пользователей для обучения векторных представлений\n",
    "                 n_movies, # Число фильмов для обучения векторных представлений\n",
    "                 n_dim, # Размерность эмбеддингов\n",
    "                 n_hid_layers=2, # Количество слоев в полносвязной сети\n",
    "                 dropout=0.5,\n",
    "                 target=\"bin\",\n",
    "                ): # Количество выключаемых нейронов в полносвязной сети\n",
    "        super().__init__()\n",
    "        def generate_dense(inp_s, out_s, n_hid_layers):\n",
    "#           Функция для создания полносвязной сети\n",
    "            layers = []\n",
    "            size_cnt = inp_s\n",
    "            for i in range(n_hid_layers):\n",
    "                layers.append(nn.Linear(size_cnt, size_cnt//2))\n",
    "                layers.append(nn.Dropout(dropout))\n",
    "                layers.append(nn.ReLU())\n",
    "                size_cnt = size_cnt//2\n",
    "            layers.append(nn.Dropout(dropout))\n",
    "            layers.append(nn.Linear(size_cnt, out_s))\n",
    "            net = nn.Sequential(*layers)\n",
    "            return net\n",
    "        \n",
    "#       эмбеддинги пользователей и фильмов\n",
    "        self.u_emb = nn.Embedding(n_users, n_dim)\n",
    "        self.m_emb = nn.Embedding(n_movies, n_dim)\n",
    "#       Полносвязная сеть для обработки сконкатенированных эмбеддингов\n",
    "        self.dense = generate_dense(n_dim*2, 1, n_hid_layers)\n",
    "        self.target = target\n",
    "        \n",
    "    def forward(self, users, movies):\n",
    "#       Конкатанирование эмбеддингов и обучение полносвязной сети\n",
    "        x = torch.cat([self.u_emb(users), self.m_emb(movies)], dim=1)\n",
    "        if self.target == \"bin\":\n",
    "            x = nn.Sigmoid()(self.dense(x))\n",
    "        else:\n",
    "            x = self.dense(x)\n",
    "        return x\n",
    "    "
   ]
  },
  {
   "cell_type": "markdown",
   "metadata": {},
   "source": [
    "# Обучение"
   ]
  },
  {
   "cell_type": "markdown",
   "metadata": {},
   "source": [
    "цикл обучения"
   ]
  },
  {
   "cell_type": "code",
   "execution_count": 18,
   "metadata": {
    "execution": {
     "iopub.execute_input": "2023-05-08T00:31:09.065285Z",
     "iopub.status.busy": "2023-05-08T00:31:09.064963Z",
     "iopub.status.idle": "2023-05-08T00:38:55.028857Z",
     "shell.execute_reply": "2023-05-08T00:38:55.026535Z",
     "shell.execute_reply.started": "2023-05-08T00:31:09.065261Z"
    }
   },
   "outputs": [
    {
     "name": "stderr",
     "output_type": "stream",
     "text": [
      "  0%|          | 0/100 [07:41<?, ?it/s]\n"
     ]
    },
    {
     "ename": "KeyboardInterrupt",
     "evalue": "",
     "output_type": "error",
     "traceback": [
      "\u001b[0;31m---------------------------------------------------------------------------\u001b[0m",
      "\u001b[0;31mKeyboardInterrupt\u001b[0m                         Traceback (most recent call last)",
      "Cell \u001b[0;32mIn[18], line 31\u001b[0m\n\u001b[1;32m     29\u001b[0m         loss\u001b[38;5;241m.\u001b[39mbackward()\n\u001b[1;32m     30\u001b[0m         optimizer\u001b[38;5;241m.\u001b[39mstep()\n\u001b[0;32m---> 31\u001b[0m         running_loss_train \u001b[38;5;241m+\u001b[39m\u001b[38;5;241m=\u001b[39m \u001b[43mloss\u001b[49m\u001b[38;5;241;43m.\u001b[39;49m\u001b[43mitem\u001b[49m\u001b[43m(\u001b[49m\u001b[43m)\u001b[49m\n\u001b[1;32m     32\u001b[0m     train_epoch_loss \u001b[38;5;241m=\u001b[39m running_loss_train\u001b[38;5;241m/\u001b[39m\u001b[38;5;28mlen\u001b[39m(X_train)\n\u001b[1;32m     34\u001b[0m \u001b[38;5;66;03m#     валидация модели\u001b[39;00m\n",
      "\u001b[0;31mKeyboardInterrupt\u001b[0m: "
     ]
    }
   ],
   "source": [
    "n_users = train.userId.max()+1\n",
    "n_movies = train.movieId.max()+1\n",
    "emb_dim = 256\n",
    "net = NCF(n_users, n_movies, emb_dim, n_hid_layers=1)\n",
    "\n",
    "# Объявление параметров обучения\n",
    "lr = 1e-3\n",
    "n_epochs = 100\n",
    "patience = 2\n",
    "best_loss = np.inf\n",
    "best_loss_cnt = 0\n",
    "best_epoch = 0\n",
    "history = []\n",
    "net.to(device)\n",
    "criterion = nn.BCELoss()\n",
    "optimizer = optim.Adam(net.parameters(), lr=lr)\n",
    "\n",
    "# Цикл обучения\n",
    "for epoch in tqdm(range(n_epochs)):\n",
    "    running_loss_train = 0.0\n",
    "    running_loss_test = 0.0\n",
    "#     обучение\n",
    "    for (X, y) in train_loader:\n",
    "        X_d = X.to(device)\n",
    "        y_d = y.to(device)\n",
    "        optimizer.zero_grad()\n",
    "        outputs = net(X_d[:, 0], X_d[:, 1])\n",
    "        loss = criterion(outputs, y_d)\n",
    "        loss.backward()\n",
    "        optimizer.step()\n",
    "        running_loss_train += loss.item()\n",
    "    train_epoch_loss = running_loss_train/len(X_train)\n",
    "    \n",
    "#     валидация модели\n",
    "    with torch.no_grad():\n",
    "        for (X, y) in test_loader:\n",
    "            X_d = X.to(device)\n",
    "            y_d = y.to(device)\n",
    "            outputs = net(X_d[:,0], X_d[:, 1])\n",
    "            loss = criterion(outputs, y_d)\n",
    "            running_loss_test += loss.item()\n",
    "        test_epoch_loss = running_loss_test/len(X_valid)\n",
    "    \n",
    "#     Сохраняем лучшую модель за пройденые эпохи\n",
    "    if test_epoch_loss < best_loss:\n",
    "        best_loss = test_epoch_loss\n",
    "        torch.save(net.state_dict(), 'rnet_best.pt')\n",
    "        best_loss_cnt = 0\n",
    "        best_epoch = epoch\n",
    "    else:\n",
    "        best_loss_cnt += 1\n",
    "        \n",
    "#     Сохраняем лосс на эпохе\n",
    "    history.append((train_epoch_loss, test_epoch_loss))\n",
    "    print(\n",
    "        f\"epoch №{epoch};\",\n",
    "        f\"train loss:{train_epoch_loss};\",\n",
    "        f\"test loss: {test_epoch_loss};\\n\",\n",
    "        f\"best test_loss: {best_loss} on epoch {best_epoch}\"\n",
    "    )\n",
    "    \n",
    "#     Ранняя остановка модели\n",
    "    if best_loss_cnt >= patience:\n",
    "        print(f\"early stopping\\n train ended with best loss {best_loss} on epoch {best_epoch}\")\n",
    "        break\n",
    "        "
   ]
  },
  {
   "cell_type": "markdown",
   "metadata": {},
   "source": [
    "График эпох обучения"
   ]
  },
  {
   "cell_type": "code",
   "execution_count": null,
   "metadata": {
    "execution": {
     "iopub.status.busy": "2023-05-08T00:38:55.031496Z",
     "iopub.status.idle": "2023-05-08T00:38:55.034196Z",
     "shell.execute_reply": "2023-05-08T00:38:55.033966Z",
     "shell.execute_reply.started": "2023-05-08T00:38:55.033939Z"
    }
   },
   "outputs": [],
   "source": [
    "pd.DataFrame(history, columns=('train', 'test')).plot()\n",
    "plt.axvline(x = best_epoch, color = 'r')"
   ]
  },
  {
   "cell_type": "markdown",
   "metadata": {},
   "source": [
    "Загружаем веса модели"
   ]
  },
  {
   "cell_type": "code",
   "execution_count": 17,
   "metadata": {
    "execution": {
     "iopub.status.busy": "2023-05-08T00:38:55.037848Z",
     "iopub.status.idle": "2023-05-08T00:38:55.040440Z",
     "shell.execute_reply": "2023-05-08T00:38:55.040224Z",
     "shell.execute_reply.started": "2023-05-08T00:38:55.040187Z"
    }
   },
   "outputs": [
    {
     "data": {
      "text/plain": [
       "NCF(\n",
       "  (u_emb): Embedding(283229, 256)\n",
       "  (m_emb): Embedding(193887, 256)\n",
       "  (dense): Sequential(\n",
       "    (0): Linear(in_features=512, out_features=256, bias=True)\n",
       "    (1): Dropout(p=0.5, inplace=False)\n",
       "    (2): ReLU()\n",
       "    (3): Dropout(p=0.5, inplace=False)\n",
       "    (4): Linear(in_features=256, out_features=1, bias=True)\n",
       "  )\n",
       ")"
      ]
     },
     "execution_count": 17,
     "metadata": {},
     "output_type": "execute_result"
    }
   ],
   "source": [
    "n_users = train.userId.max()+1\n",
    "n_movies = train.movieId.max()+1\n",
    "emb_dim = 256\n",
    "\n",
    "loaded_model = NCF(n_users, n_movies, emb_dim, n_hid_layers=1)\n",
    "loaded_model.load_state_dict(\n",
    "    torch.load(r\"C:\\Users\\sahab\\Downloads\\rnet_best (9).pt\"\n",
    "              ))\n",
    "loaded_model.eval()"
   ]
  },
  {
   "cell_type": "markdown",
   "metadata": {},
   "source": [
    "Пример рекомендаций для одного пользователя"
   ]
  },
  {
   "cell_type": "code",
   "execution_count": 18,
   "metadata": {
    "execution": {
     "iopub.status.busy": "2023-05-08T00:38:55.043251Z",
     "iopub.status.idle": "2023-05-08T00:38:55.046749Z",
     "shell.execute_reply": "2023-05-08T00:38:55.046529Z",
     "shell.execute_reply.started": "2023-05-08T00:38:55.046503Z"
    }
   },
   "outputs": [
    {
     "data": {
      "text/html": [
       "<div>\n",
       "<style scoped>\n",
       "    .dataframe tbody tr th:only-of-type {\n",
       "        vertical-align: middle;\n",
       "    }\n",
       "\n",
       "    .dataframe tbody tr th {\n",
       "        vertical-align: top;\n",
       "    }\n",
       "\n",
       "    .dataframe thead th {\n",
       "        text-align: right;\n",
       "    }\n",
       "</style>\n",
       "<table border=\"1\" class=\"dataframe\">\n",
       "  <thead>\n",
       "    <tr style=\"text-align: right;\">\n",
       "      <th></th>\n",
       "      <th>movieId</th>\n",
       "      <th>title</th>\n",
       "    </tr>\n",
       "  </thead>\n",
       "  <tbody>\n",
       "    <tr>\n",
       "      <th>11536</th>\n",
       "      <td>87960</td>\n",
       "      <td>Between the Folds (2008)</td>\n",
       "    </tr>\n",
       "    <tr>\n",
       "      <th>6813</th>\n",
       "      <td>73323</td>\n",
       "      <td>Girl Who Kicked the Hornet's Nest, The (Luftsl...</td>\n",
       "    </tr>\n",
       "    <tr>\n",
       "      <th>11704</th>\n",
       "      <td>185927</td>\n",
       "      <td>Wild Wild Country (2018)</td>\n",
       "    </tr>\n",
       "    <tr>\n",
       "      <th>6500</th>\n",
       "      <td>170705</td>\n",
       "      <td>Band of Brothers (2001)</td>\n",
       "    </tr>\n",
       "    <tr>\n",
       "      <th>9034</th>\n",
       "      <td>92954</td>\n",
       "      <td>Prayers for Bobby (2009)</td>\n",
       "    </tr>\n",
       "    <tr>\n",
       "      <th>1057</th>\n",
       "      <td>160718</td>\n",
       "      <td>Piper (2016)</td>\n",
       "    </tr>\n",
       "    <tr>\n",
       "      <th>8879</th>\n",
       "      <td>129779</td>\n",
       "      <td>Ghost in the Shell Arise - Border 1: Ghost Pai...</td>\n",
       "    </tr>\n",
       "    <tr>\n",
       "      <th>5612</th>\n",
       "      <td>170777</td>\n",
       "      <td>There Once Was a Dog (1982)</td>\n",
       "    </tr>\n",
       "    <tr>\n",
       "      <th>9768</th>\n",
       "      <td>187717</td>\n",
       "      <td>Won't You Be My Neighbor? (2018)</td>\n",
       "    </tr>\n",
       "    <tr>\n",
       "      <th>5969</th>\n",
       "      <td>147286</td>\n",
       "      <td>The Adventures of Sherlock Holmes and Doctor W...</td>\n",
       "    </tr>\n",
       "    <tr>\n",
       "      <th>8233</th>\n",
       "      <td>25886</td>\n",
       "      <td>Random Harvest (1942)</td>\n",
       "    </tr>\n",
       "    <tr>\n",
       "      <th>7869</th>\n",
       "      <td>100553</td>\n",
       "      <td>Frozen Planet (2011)</td>\n",
       "    </tr>\n",
       "    <tr>\n",
       "      <th>8236</th>\n",
       "      <td>93040</td>\n",
       "      <td>Civil War, The (1990)</td>\n",
       "    </tr>\n",
       "    <tr>\n",
       "      <th>7755</th>\n",
       "      <td>93988</td>\n",
       "      <td>North &amp; South (2004)</td>\n",
       "    </tr>\n",
       "    <tr>\n",
       "      <th>9484</th>\n",
       "      <td>140265</td>\n",
       "      <td>George Carlin: Jammin' in New York (1992)</td>\n",
       "    </tr>\n",
       "    <tr>\n",
       "      <th>7886</th>\n",
       "      <td>121374</td>\n",
       "      <td>Bill Burr: Why Do I Do This? (2008)</td>\n",
       "    </tr>\n",
       "    <tr>\n",
       "      <th>9112</th>\n",
       "      <td>5912</td>\n",
       "      <td>Hit the Bank (Vabank) (1981)</td>\n",
       "    </tr>\n",
       "    <tr>\n",
       "      <th>9183</th>\n",
       "      <td>147330</td>\n",
       "      <td>Sherlock Holmes and Dr. Watson: Acquaintance (...</td>\n",
       "    </tr>\n",
       "    <tr>\n",
       "      <th>4995</th>\n",
       "      <td>93265</td>\n",
       "      <td>Courageous (2011)</td>\n",
       "    </tr>\n",
       "    <tr>\n",
       "      <th>4110</th>\n",
       "      <td>27423</td>\n",
       "      <td>O Auto da Compadecida (Dog's Will, A) (2000)</td>\n",
       "    </tr>\n",
       "  </tbody>\n",
       "</table>\n",
       "</div>"
      ],
      "text/plain": [
       "       movieId                                              title\n",
       "11536    87960                           Between the Folds (2008)\n",
       "6813     73323  Girl Who Kicked the Hornet's Nest, The (Luftsl...\n",
       "11704   185927                           Wild Wild Country (2018)\n",
       "6500    170705                            Band of Brothers (2001)\n",
       "9034     92954                           Prayers for Bobby (2009)\n",
       "1057    160718                                       Piper (2016)\n",
       "8879    129779  Ghost in the Shell Arise - Border 1: Ghost Pai...\n",
       "5612    170777                        There Once Was a Dog (1982)\n",
       "9768    187717                   Won't You Be My Neighbor? (2018)\n",
       "5969    147286  The Adventures of Sherlock Holmes and Doctor W...\n",
       "8233     25886                              Random Harvest (1942)\n",
       "7869    100553                               Frozen Planet (2011)\n",
       "8236     93040                              Civil War, The (1990)\n",
       "7755     93988                               North & South (2004)\n",
       "9484    140265          George Carlin: Jammin' in New York (1992)\n",
       "7886    121374                Bill Burr: Why Do I Do This? (2008)\n",
       "9112      5912                       Hit the Bank (Vabank) (1981)\n",
       "9183    147330  Sherlock Holmes and Dr. Watson: Acquaintance (...\n",
       "4995     93265                                  Courageous (2011)\n",
       "4110     27423       O Auto da Compadecida (Dog's Will, A) (2000)"
      ]
     },
     "execution_count": 18,
     "metadata": {},
     "output_type": "execute_result"
    }
   ],
   "source": [
    "preds = []\n",
    "\n",
    "with torch.no_grad():\n",
    "    for i in X_valid.movieId.unique():\n",
    "            pred = loaded_model(\n",
    "                torch.tensor([111486]), torch.tensor([i])\n",
    "            ).detach().numpy()[0][0]\n",
    "            preds.append((i, pred))\n",
    "answer = pd.merge(pd.DataFrame(preds),\n",
    "                  movies_df, left_on=0,\n",
    "                  right_on=\"movieId\", how=\"inner\")\n",
    "answer = answer.sort_values(1, ascending=False).head(100)\\\n",
    ".sample(20)[[\"movieId\", \"title\"]]\n",
    "answer"
   ]
  },
  {
   "cell_type": "code",
   "execution_count": 19,
   "metadata": {
    "execution": {
     "iopub.status.busy": "2023-05-08T00:38:55.047972Z",
     "iopub.status.idle": "2023-05-08T00:38:55.049037Z",
     "shell.execute_reply": "2023-05-08T00:38:55.048822Z",
     "shell.execute_reply.started": "2023-05-08T00:38:55.048798Z"
    }
   },
   "outputs": [
    {
     "data": {
      "text/html": [
       "<div>\n",
       "<style scoped>\n",
       "    .dataframe tbody tr th:only-of-type {\n",
       "        vertical-align: middle;\n",
       "    }\n",
       "\n",
       "    .dataframe tbody tr th {\n",
       "        vertical-align: top;\n",
       "    }\n",
       "\n",
       "    .dataframe thead th {\n",
       "        text-align: right;\n",
       "    }\n",
       "</style>\n",
       "<table border=\"1\" class=\"dataframe\">\n",
       "  <thead>\n",
       "    <tr style=\"text-align: right;\">\n",
       "      <th></th>\n",
       "      <th>title</th>\n",
       "    </tr>\n",
       "  </thead>\n",
       "  <tbody>\n",
       "    <tr>\n",
       "      <th>11852369</th>\n",
       "      <td>Get Shorty (1995)</td>\n",
       "    </tr>\n",
       "    <tr>\n",
       "      <th>21679950</th>\n",
       "      <td>Pirates of Silicon Valley (1999)</td>\n",
       "    </tr>\n",
       "    <tr>\n",
       "      <th>8121028</th>\n",
       "      <td>Spaceballs (1987)</td>\n",
       "    </tr>\n",
       "    <tr>\n",
       "      <th>9356569</th>\n",
       "      <td>Jay and Silent Bob Strike Back (2001)</td>\n",
       "    </tr>\n",
       "    <tr>\n",
       "      <th>9763187</th>\n",
       "      <td>Spider-Man (2002)</td>\n",
       "    </tr>\n",
       "    <tr>\n",
       "      <th>6857041</th>\n",
       "      <td>Ronin (1998)</td>\n",
       "    </tr>\n",
       "    <tr>\n",
       "      <th>7126013</th>\n",
       "      <td>Office Space (1999)</td>\n",
       "    </tr>\n",
       "    <tr>\n",
       "      <th>4300719</th>\n",
       "      <td>Die Hard (1988)</td>\n",
       "    </tr>\n",
       "    <tr>\n",
       "      <th>5560215</th>\n",
       "      <td>Austin Powers: International Man of Mystery (1...</td>\n",
       "    </tr>\n",
       "    <tr>\n",
       "      <th>9145095</th>\n",
       "      <td>Scarface (1983)</td>\n",
       "    </tr>\n",
       "    <tr>\n",
       "      <th>7543744</th>\n",
       "      <td>Ghostbusters (a.k.a. Ghost Busters) (1984)</td>\n",
       "    </tr>\n",
       "    <tr>\n",
       "      <th>14421898</th>\n",
       "      <td>Insider, The (1999)</td>\n",
       "    </tr>\n",
       "    <tr>\n",
       "      <th>9277769</th>\n",
       "      <td>Score, The (2001)</td>\n",
       "    </tr>\n",
       "    <tr>\n",
       "      <th>5817464</th>\n",
       "      <td>L.A. Confidential (1997)</td>\n",
       "    </tr>\n",
       "    <tr>\n",
       "      <th>11428227</th>\n",
       "      <td>American History X (1998)</td>\n",
       "    </tr>\n",
       "    <tr>\n",
       "      <th>3779851</th>\n",
       "      <td>Mission: Impossible (1996)</td>\n",
       "    </tr>\n",
       "    <tr>\n",
       "      <th>9862793</th>\n",
       "      <td>Minority Report (2002)</td>\n",
       "    </tr>\n",
       "    <tr>\n",
       "      <th>1731001</th>\n",
       "      <td>Natural Born Killers (1994)</td>\n",
       "    </tr>\n",
       "    <tr>\n",
       "      <th>19418354</th>\n",
       "      <td>Mr. Brooks (2007)</td>\n",
       "    </tr>\n",
       "    <tr>\n",
       "      <th>9815404</th>\n",
       "      <td>Sum of All Fears, The (2002)</td>\n",
       "    </tr>\n",
       "  </tbody>\n",
       "</table>\n",
       "</div>"
      ],
      "text/plain": [
       "                                                      title\n",
       "11852369                                  Get Shorty (1995)\n",
       "21679950                   Pirates of Silicon Valley (1999)\n",
       "8121028                                   Spaceballs (1987)\n",
       "9356569               Jay and Silent Bob Strike Back (2001)\n",
       "9763187                                   Spider-Man (2002)\n",
       "6857041                                        Ronin (1998)\n",
       "7126013                                 Office Space (1999)\n",
       "4300719                                     Die Hard (1988)\n",
       "5560215   Austin Powers: International Man of Mystery (1...\n",
       "9145095                                     Scarface (1983)\n",
       "7543744          Ghostbusters (a.k.a. Ghost Busters) (1984)\n",
       "14421898                                Insider, The (1999)\n",
       "9277769                                   Score, The (2001)\n",
       "5817464                            L.A. Confidential (1997)\n",
       "11428227                          American History X (1998)\n",
       "3779851                          Mission: Impossible (1996)\n",
       "9862793                              Minority Report (2002)\n",
       "1731001                         Natural Born Killers (1994)\n",
       "19418354                                  Mr. Brooks (2007)\n",
       "9815404                        Sum of All Fears, The (2002)"
      ]
     },
     "execution_count": 19,
     "metadata": {},
     "output_type": "execute_result"
    }
   ],
   "source": [
    "train[train[\"userId\"] == 111486]\\\n",
    ".sort_values(\"rating\", ascending=False)\\\n",
    ".head(100).sample(20)[[\"title\"]]"
   ]
  },
  {
   "cell_type": "markdown",
   "metadata": {},
   "source": [
    "# Валидация"
   ]
  },
  {
   "cell_type": "markdown",
   "metadata": {},
   "source": [
    "Для валидации я использую HR@K, MAP@K, F1@K, p@K, r@k, nDCG@K"
   ]
  },
  {
   "cell_type": "code",
   "execution_count": 20,
   "metadata": {
    "execution": {
     "iopub.status.busy": "2023-05-08T00:38:55.050230Z",
     "iopub.status.idle": "2023-05-08T00:38:55.058100Z",
     "shell.execute_reply": "2023-05-08T00:38:55.057872Z",
     "shell.execute_reply.started": "2023-05-08T00:38:55.057847Z"
    }
   },
   "outputs": [],
   "source": [
    "def get_predict(user_id, movie_id):\n",
    "    '''\n",
    "    Функция, выдающая предикт для одного фильма и одного пользователя\n",
    "    '''\n",
    "    with torch.no_grad():\n",
    "        pred = loaded_model(\n",
    "            torch.tensor([user_id]), torch.tensor([movie_id])\n",
    "        ).detach().numpy()[0][0]\n",
    "    return pred\n",
    "\n",
    "def get_n_recommendations(user_id, movie_ids_collect,\n",
    "                          movies_df, n):\n",
    "    '''\n",
    "    Функция, выдающая top-n рекомендаций \n",
    "    '''\n",
    "    preds = []\n",
    "    for i in movie_ids_collect:\n",
    "        pred = get_predict(user_id, i)\n",
    "        preds.append((i, pred))\n",
    "    answer = pd.merge(\n",
    "        pd.DataFrame(preds),\n",
    "        movies_df, left_on=0,\n",
    "        right_on=\"movieId\", how=\"inner\"\n",
    "    )\n",
    "    \n",
    "    answer = answer.sort_values(1, ascending=False).head(n)\n",
    "    return answer"
   ]
  },
  {
   "cell_type": "code",
   "execution_count": 56,
   "metadata": {},
   "outputs": [],
   "source": [
    "test_ids = test_ratings.sample(10000).userId.unique()"
   ]
  },
  {
   "cell_type": "markdown",
   "metadata": {},
   "source": [
    "HR@10 для 10000 пользователей\n",
    "\n",
    "Метрика Hit Ratio @ k - это метрика,\n",
    "используемая в рекомендательных системах для оценки качества рекомендаций.\n",
    "Она показывает, как часто рекомендуемые элементы появляются в топ-k рекомендациях."
   ]
  },
  {
   "cell_type": "code",
   "execution_count": 51,
   "metadata": {
    "execution": {
     "iopub.status.busy": "2023-05-08T00:38:55.059280Z",
     "iopub.status.idle": "2023-05-08T00:38:55.060169Z",
     "shell.execute_reply": "2023-05-08T00:38:55.059957Z",
     "shell.execute_reply.started": "2023-05-08T00:38:55.059934Z"
    }
   },
   "outputs": [
    {
     "name": "stderr",
     "output_type": "stream",
     "text": [
      "100%|████████████████████████████████████████████████████████████████████████████| 10000/10000 [31:40<00:00,  5.26it/s]"
     ]
    },
    {
     "name": "stdout",
     "output_type": "stream",
     "text": [
      "The Hit Ratio @ 10 is 0.38\n"
     ]
    },
    {
     "name": "stderr",
     "output_type": "stream",
     "text": [
      "\n"
     ]
    }
   ],
   "source": [
    "data = test_ratings[test_ratings[\"userId\"].isin(test_ids)]\n",
    "test_user_item_set = list(set(zip(data['userId'], data['movieId'])))\n",
    "\n",
    "user_interacted_items = train.groupby('userId')['movieId'].apply(list).to_dict()\n",
    "\n",
    "hits = []\n",
    "\n",
    "for (u, i) in tqdm(test_user_item_set):\n",
    "    interacted_items = user_interacted_items[u]\n",
    "    not_interacted_items = set(train.movieId.unique()) - set(interacted_items)\n",
    "    selected_not_interacted = list(np.random.choice(list(not_interacted_items), 99))\n",
    "    test_items = selected_not_interacted + [i]\n",
    "    with torch.no_grad():\n",
    "        predicted_labels = np.squeeze(\n",
    "            loaded_model(torch.tensor([u]*100), \n",
    "            torch.tensor(test_items)).detach().numpy()\n",
    "        )\n",
    "    top10_items = [test_items[i] for i in np.argsort(predicted_labels)[::-1][0:10].tolist()]    \n",
    "    \n",
    "    if i in top10_items:\n",
    "        hits.append(1)\n",
    "    else:\n",
    "        hits.append(0)\n",
    "\n",
    "print(\"The Hit Ratio @ 10 is {:.2f}\".format(np.average(hits)))"
   ]
  },
  {
   "attachments": {
    "image-3.png": {
     "image/png": "[encoded data removed]"
    }
   },
   "cell_type": "markdown",
   "metadata": {},
   "source": [
    "MAP@10 для 10000 пользователей\n",
    "\n",
    "Mean Average Precision (MAP) @ k - это метрика, которая используется для оценки качества рекомендательных систем. Она измеряет, насколько хорошо система ранжирует рекомендации для пользователя.\n",
    "MAP @ k означает, что мы рассматриваем только первые k рекомендаций, которые были предложены пользователю. \n",
    "\n",
    "![image-3.png](attachment:image-3.png)"
   ]
  },
  {
   "cell_type": "code",
   "execution_count": 52,
   "metadata": {
    "execution": {
     "iopub.status.busy": "2023-05-08T00:38:55.061045Z",
     "iopub.status.idle": "2023-05-08T00:38:55.062073Z",
     "shell.execute_reply": "2023-05-08T00:38:55.061860Z",
     "shell.execute_reply.started": "2023-05-08T00:38:55.061836Z"
    }
   },
   "outputs": [
    {
     "name": "stderr",
     "output_type": "stream",
     "text": [
      "100%|████████████████████████████████████████████████████████████████████████████| 10000/10000 [31:21<00:00,  5.31it/s]\n"
     ]
    },
    {
     "name": "stdout",
     "output_type": "stream",
     "text": [
      "MAP @ 10 is 0.22\n"
     ]
    }
   ],
   "source": [
    "def apk(actual, predicted, k=10):\n",
    "    '''\n",
    "    AP@K\n",
    "    '''\n",
    "    if len(predicted)>k:\n",
    "        predicted = predicted[:k]\n",
    "    score = 0.0\n",
    "    num_hits = 0.0\n",
    "    for i,p in enumerate(predicted):\n",
    "        if p in actual and p not in predicted[:i]:\n",
    "            num_hits += 1.0\n",
    "            score += num_hits / (i+1.0)\n",
    "    if not actual:\n",
    "        return 0.0\n",
    "    return score / min(len(actual), k)\n",
    "\n",
    "def mapk(actual, predicted, k=10):\n",
    "    '''\n",
    "    MAP@K\n",
    "    '''\n",
    "    return np.mean([apk(a,p,k) for a,p in zip(actual, predicted)])\n",
    "\n",
    "\n",
    "user_interacted_items = train.groupby('userId')['movieId'].apply(list).to_dict()\n",
    "actual_list = []\n",
    "predicted_list = []\n",
    "for u in tqdm(test_ids):\n",
    "    actual = user_interacted_items[u]\n",
    "    actual_list.append(actual)\n",
    "    not_interacted_items = set(train.movieId.unique()) - set(interacted_items)\n",
    "    selected_not_interacted = list(np.random.choice(list(not_interacted_items), 9*len(actual)))\n",
    "    test_items = selected_not_interacted + actual\n",
    "    with torch.no_grad():\n",
    "        predicted_labels = np.squeeze(\n",
    "            loaded_model(torch.tensor([u]*10*len(actual)), \n",
    "            torch.tensor(test_items)).detach().numpy()\n",
    "        )\n",
    "        top10_items = [test_items[i] for i in np.argsort(predicted_labels)[::-1][0:10].tolist()]\n",
    "    predicted_list.append(top10_items)\n",
    "actual_list = list(map(list, actual_list))\n",
    "\n",
    "print(\"MAP @ 10 is {:.2f}\".format(mapk(actual_list, predicted_list)))"
   ]
  },
  {
   "attachments": {
    "image-3.png": {
     "image/png": "[encoded data removed]"
    },
    "image.png": {
     "image/png": "[encoded data removed]"
    }
   },
   "cell_type": "markdown",
   "metadata": {},
   "source": [
    "Precision@K, recall@K, F1@K для 10000 пользователей\n",
    "\n",
    "Precision@K - метрика, которая показывает долю правильно предсказанных объектов среди первых K объектов в выдаче модели. \n",
    "\n",
    "Recall@K - метрика, которая показывает долю правильно предсказанных объектов, которые были найдены в первых K объектах в выдаче модели.\n",
    "\n",
    "F1@K - метрика, которая является гармоническим средним между precision@K и recall@K. Она показывает баланс между precision и recall для первых K объектов в выдаче модели. \n",
    "![image.png](attachment:image.png)\n",
    "![image-3.png](attachment:image-3.png)"
   ]
  },
  {
   "cell_type": "code",
   "execution_count": 53,
   "metadata": {},
   "outputs": [
    {
     "name": "stderr",
     "output_type": "stream",
     "text": [
      "100%|████████████████████████████████████████████████████████████████████████████| 10000/10000 [31:04<00:00,  5.36it/s]"
     ]
    },
    {
     "name": "stdout",
     "output_type": "stream",
     "text": [
      "mean precision at 10 is 0.339\n",
      "mean recall at 10 is 0.1599234551580397\n",
      "mean f1 at 10 is 0.21732412352272573\n"
     ]
    },
    {
     "name": "stderr",
     "output_type": "stream",
     "text": [
      "\n"
     ]
    }
   ],
   "source": [
    "def precision_at_k(actual, predicted, k=10):\n",
    "    '''\n",
    "    P@K\n",
    "    precision = hits / k\n",
    "    '''\n",
    "#     print(actual, predicted)\n",
    "    if len(predicted) > k:\n",
    "        predicted = predicted[:k]\n",
    "    hits = 0\n",
    "    for i in predicted:\n",
    "        if i in actual:\n",
    "            hits += 1\n",
    "            \n",
    "    precision = hits / k\n",
    "    return precision\n",
    "\n",
    "def recall_at_k(actual, predicted, k=10):\n",
    "    '''\n",
    "    R@K\n",
    "    recall = hits / num_actual\n",
    "    '''\n",
    "    if len(predicted) > k:\n",
    "        predicted = predicted[:k]\n",
    "    num_actual = len(actual)\n",
    "    hits = 0\n",
    "    for item in predicted:\n",
    "        if item in actual:\n",
    "            hits += 1\n",
    "    recall = 0\n",
    "    if num_actual > 0:\n",
    "        recall = hits / num_actual\n",
    "    return recall\n",
    "\n",
    "user_interacted_items = train.groupby('userId')['movieId'].apply(list).to_dict()\n",
    "\n",
    "precision_at_k_list = []\n",
    "recall_at_k_list = []\n",
    "\n",
    "for u in tqdm(test_ids):\n",
    "    actual = user_interacted_items[u]\n",
    "    not_interacted_items = set(train.movieId.unique()) - set(interacted_items)\n",
    "    selected_not_interacted = list(np.random.choice(list(not_interacted_items), 9*len(actual)))\n",
    "    test_items = selected_not_interacted + actual\n",
    "    with torch.no_grad():\n",
    "        predicted_labels = np.squeeze(\n",
    "            loaded_model(torch.tensor([u]*10*len(actual)), \n",
    "            torch.tensor(test_items)).detach().numpy()\n",
    "        )\n",
    "        top10_items = [test_items[i] for i in np.argsort(predicted_labels)[::-1][0:10].tolist()]\n",
    "    precision_at_k_list.append(precision_at_k(actual, top10_items))\n",
    "    recall_at_k_list.append(recall_at_k(actual, top10_items))\n",
    "\n",
    "p_a_10 = np.array(precision_at_k_list).mean()\n",
    "rec_a_10 = np.array(recall_at_k_list).mean()\n",
    "\n",
    "print(f\"mean precision at 10 is {p_a_10}\")\n",
    "print(f\"mean recall at 10 is {rec_a_10}\")\n",
    "print(f\"mean f1 at 10 is {2*(p_a_10 * rec_a_10)/(p_a_10 + rec_a_10)}\")"
   ]
  },
  {
   "cell_type": "markdown",
   "metadata": {},
   "source": [
    "# Сравнение с системой, которая дает всем самое популярное в качестве рекомендаций"
   ]
  },
  {
   "cell_type": "code",
   "execution_count": 47,
   "metadata": {
    "execution": {
     "iopub.status.busy": "2023-05-08T00:38:55.063951Z",
     "iopub.status.idle": "2023-05-08T00:38:55.065031Z",
     "shell.execute_reply": "2023-05-08T00:38:55.064815Z",
     "shell.execute_reply.started": "2023-05-08T00:38:55.064791Z"
    }
   },
   "outputs": [],
   "source": [
    "most_popular_10 = train.groupby(\"movieId\")\\\n",
    ".agg({'rating': 'count'})\\\n",
    ".sort_values(\"rating\", ascending=False)\\\n",
    ".head(10).reset_index()\\\n",
    ".movieId.values.tolist()"
   ]
  },
  {
   "cell_type": "markdown",
   "metadata": {},
   "source": [
    "MAP@10 для 10000 пользователей"
   ]
  },
  {
   "cell_type": "code",
   "execution_count": 57,
   "metadata": {
    "execution": {
     "iopub.status.busy": "2023-05-08T00:38:55.066403Z",
     "iopub.status.idle": "2023-05-08T00:38:55.067507Z",
     "shell.execute_reply": "2023-05-08T00:38:55.067293Z",
     "shell.execute_reply.started": "2023-05-08T00:38:55.067269Z"
    }
   },
   "outputs": [
    {
     "name": "stderr",
     "output_type": "stream",
     "text": [
      "100%|███████████████████████████████████████████████████████████████████████| 10000/10000 [00:00<00:00, 1249941.59it/s]"
     ]
    },
    {
     "name": "stdout",
     "output_type": "stream",
     "text": [
      "MAP @ 10 is 0.23\n"
     ]
    },
    {
     "name": "stderr",
     "output_type": "stream",
     "text": [
      "\n"
     ]
    }
   ],
   "source": [
    "actual_list = []\n",
    "predicted_list = []\n",
    "\n",
    "user_interacted_items = train.groupby('userId')['movieId'].apply(list).to_dict()\n",
    "\n",
    "for u in tqdm(test_ids):\n",
    "    actual = user_interacted_items[u]\n",
    "    actual_list.append(actual)\n",
    "    predicted_list.append(most_popular_10)\n",
    "    \n",
    "actual_list = list(map(list, actual_list))\n",
    "\n",
    "print(\"MAP @ 10 is {:.2f}\".format(mapk(actual_list, predicted_list)))"
   ]
  },
  {
   "cell_type": "markdown",
   "metadata": {},
   "source": [
    "HR@10 для 10000 пользователей"
   ]
  },
  {
   "cell_type": "code",
   "execution_count": 58,
   "metadata": {
    "execution": {
     "iopub.status.busy": "2023-05-08T00:38:55.068687Z",
     "iopub.status.idle": "2023-05-08T00:38:55.069753Z",
     "shell.execute_reply": "2023-05-08T00:38:55.069535Z",
     "shell.execute_reply.started": "2023-05-08T00:38:55.069511Z"
    }
   },
   "outputs": [
    {
     "name": "stderr",
     "output_type": "stream",
     "text": [
      "100%|███████████████████████████████████████████████████████████████████████| 10000/10000 [00:00<00:00, 1999763.52it/s]"
     ]
    },
    {
     "name": "stdout",
     "output_type": "stream",
     "text": [
      "The Hit Ratio @ 10 is 0.04\n"
     ]
    },
    {
     "name": "stderr",
     "output_type": "stream",
     "text": [
      "\n"
     ]
    }
   ],
   "source": [
    "data = test_ratings[test_ratings[\"userId\"].isin(test_ids)]\n",
    "test_user_item_set = list(set(zip(data['userId'], data['movieId'])))\n",
    "\n",
    "hits = []\n",
    "\n",
    "for (u, i) in tqdm(test_user_item_set):\n",
    "    if i in most_popular_10:\n",
    "        hits.append(1)\n",
    "    else:\n",
    "        hits.append(0)\n",
    "        \n",
    "print(\"The Hit Ratio @ 10 is {:.2f}\".format(np.average(hits)))"
   ]
  },
  {
   "cell_type": "markdown",
   "metadata": {},
   "source": [
    "Precision@K, recall@K, F1@K для 10000 пользователей"
   ]
  },
  {
   "cell_type": "code",
   "execution_count": 59,
   "metadata": {},
   "outputs": [
    {
     "name": "stderr",
     "output_type": "stream",
     "text": [
      "100%|█████████████████████████████████████████████████████████████████████████| 10000/10000 [00:00<00:00, 97029.50it/s]"
     ]
    },
    {
     "name": "stdout",
     "output_type": "stream",
     "text": [
      "mean precision at 10 is 0.20000000000000004\n",
      "mean recall at 10 is 0.02531645569620254\n",
      "mean f1 at 10 is 0.04494382022471912\n"
     ]
    },
    {
     "name": "stderr",
     "output_type": "stream",
     "text": [
      "\n"
     ]
    }
   ],
   "source": [
    "user_interacted_items = train.groupby('userId')['movieId'].apply(list).to_dict()\n",
    "\n",
    "precision_at_k_list = []\n",
    "recall_at_k_list = []\n",
    "\n",
    "for u in tqdm(test_ids):\n",
    "    precision_at_k_list.append(precision_at_k(actual, most_popular_10))\n",
    "    recall_at_k_list.append(recall_at_k(actual, most_popular_10))\n",
    "\n",
    "p_a_10 = np.array(precision_at_k_list).mean()\n",
    "rec_a_10 = np.array(recall_at_k_list).mean()\n",
    "\n",
    "print(f\"mean precision at 10 is {p_a_10}\")\n",
    "print(f\"mean recall at 10 is {rec_a_10}\")\n",
    "print(f\"mean f1 at 10 is {2*(p_a_10 * rec_a_10)/(p_a_10 + rec_a_10)}\")"
   ]
  },
  {
   "cell_type": "markdown",
   "metadata": {},
   "source": [
    "Таблица сравнения метрик модели и константных рекомендаций в виде самых популярных фильмов"
   ]
  },
  {
   "cell_type": "markdown",
   "metadata": {},
   "source": [
    "| Model    | MAP@10 | HR@10 | P@10 | R@10 | F1@K |\n",
    "|----------|--------|-------|------|------|------|\n",
    "| NCF      |    0.22|0.380   |0.339 | 0.159|0.217 |\n",
    "| Constant |    0.23|0.040   |0.200 |0.025 |0.044 |"
   ]
  }
 ],
 "metadata": {
  "kernelspec": {
   "display_name": "Python 3 (ipykernel)",
   "language": "python",
   "name": "python3"
  },
  "language_info": {
   "codemirror_mode": {
    "name": "ipython",
    "version": 3
   },
   "file_extension": ".py",
   "mimetype": "text/x-python",
   "name": "python",
   "nbconvert_exporter": "python",
   "pygments_lexer": "ipython3",
   "version": "3.9.7"
  }
 },
 "nbformat": 4,
 "nbformat_minor": 4
}
